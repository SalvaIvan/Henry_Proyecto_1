{
 "cells": [
  {
   "cell_type": "code",
   "execution_count": 1,
   "metadata": {},
   "outputs": [],
   "source": [
    "import pandas as pd\n",
    "# Arreglo de los dataframes para el sistema de recomendacion \n",
    "df_reviews = pd.read_csv(\"reviews_eda.csv\")\n",
    "df_games = pd.read_csv(\"games_eda.csv\")\n",
    "df_games=df_games[[\"item_id\",\"title\"]]\n",
    "df_reviews = df_reviews[[\"user_id\",\"item_id\",\"recommend\"]]\n",
    "df = pd.merge(df_reviews,df_games, on=\"item_id\", how=\"inner\")\n",
    "df = df[[\"user_id\",\"title\",\"recommend\"]]\n",
    "df_filtered = df[df['recommend'] == True]\n",
    "df = df.astype(str)\n",
    "df.to_csv(\"df_MLOps.csv\", index= False)"
   ]
  },
  {
   "cell_type": "code",
   "execution_count": 2,
   "metadata": {},
   "outputs": [
    {
     "data": {
      "text/plain": [
       "['Team Fortress 2',\n",
       " \"Garry's Mod\",\n",
       " 'Counter-Strike: Global Offensive',\n",
       " 'Left 4 Dead 2',\n",
       " 'Terraria']"
      ]
     },
     "execution_count": 2,
     "metadata": {},
     "output_type": "execute_result"
    }
   ],
   "source": [
    "from sklearn.feature_extraction.text import CountVectorizer\n",
    "from sklearn.metrics.pairwise import cosine_similarity\n",
    "# Construye una matriz de usuarios y juegos\n",
    "# Encuentra el índice del usuario en la matriz\n",
    "# Calcula la similitud de coseno entre los usuarios\n",
    "# Obtén las similitudes de coseno para el usuario dado\n",
    "# Encuentra los juegos que el usuario no ha jugado\n",
    "# Calcula las puntuaciones de recomendación sumando las similitudes de usuarios para los juegos no jugados\n",
    "# Ordena las recomendaciones por puntuación descendente\n",
    "# Limita las recomendaciones a los primeros 5 juegos\n",
    "\n",
    "def recomendacion_usuario(user_id :str):\n",
    "    \n",
    "    user_game_matrix = pd.crosstab(df['user_id'], df['title'])\n",
    "\n",
    "    try:\n",
    "        user_index = user_game_matrix.index.get_loc(user_id)\n",
    "    except KeyError:\n",
    "        print(f\"El usuario {user_id} no está presente en los datos.\")\n",
    "        return None\n",
    "\n",
    "    cosine_similarities = cosine_similarity(user_game_matrix, user_game_matrix)\n",
    "    similar_users = cosine_similarities[user_index]\n",
    "    games_played = user_game_matrix.loc[user_id]\n",
    "    unrated_games = games_played[games_played == 0].index\n",
    "    recommendation_scores = user_game_matrix.loc[:, unrated_games].multiply(similar_users, axis=0).sum(axis=0)\n",
    "    recommendations = recommendation_scores.sort_values(ascending=False).index.tolist()\n",
    "    top_recommendations = recommendations[:5]\n",
    "\n",
    "    return top_recommendations\n",
    "\n",
    "\n",
    "usuario_a_recomendar = \"76561197970982479\"\n",
    "recomendacion_usuario('76561197970982479')"
   ]
  }
 ],
 "metadata": {
  "kernelspec": {
   "display_name": "Python 3",
   "language": "python",
   "name": "python3"
  },
  "language_info": {
   "codemirror_mode": {
    "name": "ipython",
    "version": 3
   },
   "file_extension": ".py",
   "mimetype": "text/x-python",
   "name": "python",
   "nbconvert_exporter": "python",
   "pygments_lexer": "ipython3",
   "version": "3.11.8"
  }
 },
 "nbformat": 4,
 "nbformat_minor": 2
}
