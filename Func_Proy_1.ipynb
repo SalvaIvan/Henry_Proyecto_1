{
 "cells": [
  {
   "cell_type": "code",
   "execution_count": 29,
   "metadata": {},
   "outputs": [],
   "source": [
    "# Creamos las funciones solicitadas\n",
    "# def PlayTimeGenre( genero : str ): #Debe devolver año con mas horas jugadas para dicho género.\n",
    "# Ejemplo de retorno: {\"Año de lanzamiento con más horas jugadas para Género X\" : 2013}\n",
    "# Modificaciones a los dataframes para mejorar el rendimiento de las funciones\n",
    "\n",
    "import pandas as pd\n",
    "\n",
    "df_reviews = pd.read_csv(\"reviews_eda.csv\")\n",
    "df_items = pd.read_csv(\"items_eda.csv\")\n",
    "df_games = pd.read_csv(\"games_eda.csv\")\n",
    "\n",
    "playtime_item = df_items.groupby('item_id')['playtime_forever'].sum().reset_index()\n",
    "df_merge = pd.merge(df_games, playtime_item, on='item_id', how='inner')\n",
    "df_PlayTimeGenre = df_merge[[\"genres\",\"year\",\"playtime_forever\"]]\n",
    "df_PlayTimeGenre =df_PlayTimeGenre.dropna()\n",
    "df_PlayTimeGenre.to_csv(r'df_PlayTimeGenre.csv',index=False)"
   ]
  },
  {
   "cell_type": "code",
   "execution_count": 30,
   "metadata": {},
   "outputs": [
    {
     "data": {
      "text/plain": [
       "{'Año de lanzamiento con más horas jugadas para Género el action': 2012}"
      ]
     },
     "execution_count": 30,
     "metadata": {},
     "output_type": "execute_result"
    }
   ],
   "source": [
    "# Filtramos el DataFrame para obtener solo las filas que contienen el género específico\n",
    "# Buscamos el año con la mayor suma de 'playtime_forever'\n",
    "\n",
    "def PlayTimeGenre(genero : str):\n",
    "    \n",
    "    filtro_genero = df_PlayTimeGenre['genres'].str.contains(genero, case=False, na=False)\n",
    "    df_filtrado = df_PlayTimeGenre[filtro_genero]\n",
    "    df_agrupado = df_filtrado.groupby('year')['playtime_forever'].sum().reset_index()\n",
    "    df_agrupado['year'] = df_agrupado['year'].astype(int)\n",
    "    anio_mayor_suma = df_agrupado.loc[df_agrupado['playtime_forever'].idxmax(), 'year']\n",
    "    respuesta = {f\"Año de lanzamiento con más horas jugadas para Género el {genero}\": anio_mayor_suma}\n",
    "    return respuesta \n",
    "\n",
    "PlayTimeGenre(\"action\")"
   ]
  },
  {
   "cell_type": "code",
   "execution_count": 31,
   "metadata": {},
   "outputs": [],
   "source": [
    "# Fitramos el DataFrame, eliminamos outliers\n",
    "# Calcular el rango intercuartílico (IQR) y definimos los límites superior e inferior para identificar outliers\n",
    "# Filtrar el DataFrame para mantener solo los valores dentro de los límites\n",
    "\n",
    "df_aux = df_games[[\"item_id\",\"genres\",\"year\"]]\n",
    "df_UserForGenre = pd.merge(df_items,df_aux, on = \"item_id\")\n",
    "df_UserForGenre =df_UserForGenre[[\"user_id\",\"genres\",\"year\",\"playtime_forever\"]]\n",
    "def eliminar_outliers_iqr(df, columna):\n",
    "    \n",
    "    Q1 = df[columna].quantile(0.25)\n",
    "    Q3 = df[columna].quantile(0.75)\n",
    "    IQR = Q3 - Q1\n",
    "   \n",
    "    limite_inferior = Q1 - 1.5 * IQR\n",
    "    limite_superior = Q3 + 1.5 * IQR\n",
    "   \n",
    "    df_filtrado = df[(df[columna] >= limite_inferior) & (df[columna] <= limite_superior)]\n",
    "\n",
    "    return df_filtrado\n",
    "\n",
    "df_UserForGenre = eliminar_outliers_iqr(df_UserForGenre, 'playtime_forever')\n",
    "df_UserForGenre.to_csv(r'df_UserForGenre.csv',index=False)"
   ]
  },
  {
   "cell_type": "code",
   "execution_count": 32,
   "metadata": {},
   "outputs": [
    {
     "data": {
      "text/plain": [
       "{'Usuario con más horas jugadas para Género actIon:': 'REBAS_AS_F-T',\n",
       " 'Horas jugadas': [{'Año': 1998, 'Horas': 2},\n",
       "  {'Año': 1999, 'Horas': 225},\n",
       "  {'Año': 2001, 'Horas': 11},\n",
       "  {'Año': 2002, 'Horas': 1},\n",
       "  {'Año': 2004, 'Horas': 225},\n",
       "  {'Año': 2005, 'Horas': 1117},\n",
       "  {'Año': 2006, 'Horas': 138},\n",
       "  {'Año': 2007, 'Horas': 684},\n",
       "  {'Año': 2008, 'Horas': 1871},\n",
       "  {'Año': 2009, 'Horas': 4065},\n",
       "  {'Año': 2010, 'Horas': 5720},\n",
       "  {'Año': 2011, 'Horas': 12612},\n",
       "  {'Año': 2012, 'Horas': 19514},\n",
       "  {'Año': 2013, 'Horas': 20546},\n",
       "  {'Año': 2014, 'Horas': 48114},\n",
       "  {'Año': 2015, 'Horas': 57145},\n",
       "  {'Año': 2016, 'Horas': 38991},\n",
       "  {'Año': 2017, 'Horas': 3716}]}"
      ]
     },
     "execution_count": 32,
     "metadata": {},
     "output_type": "execute_result"
    }
   ],
   "source": [
    "# Filtramos el DataFrame para el género especificado\n",
    "# Agrupamos por 'user_id' y 'year', sumamamos las horas jugadas\n",
    "# Buscamos el usuario con la máxima suma de horas jugadas\n",
    "# Filtramos el DataFrame para el usuario con máxima suma de horas jugadas\n",
    "\n",
    "\n",
    "def userforgenre(genero: str):\n",
    "    \n",
    "    f_genero = df_UserForGenre['genres'].str.contains(genero, case=False, na=False)\n",
    "    df_filt = df_UserForGenre[f_genero]\n",
    "    \n",
    "    df_sum = df_filt.groupby(['user_id', 'year'])['playtime_forever'].sum().reset_index()\n",
    "\n",
    "    max_playtime = df_sum['playtime_forever'].idxmax()\n",
    "    user_sum_playtime = df_sum.loc[max_playtime, 'user_id']\n",
    "\n",
    "    df_user = df_sum[df_sum['user_id'] == user_sum_playtime]\n",
    "\n",
    "    res = [{'Año': int(row['year']), 'Horas': int(row['playtime_forever'])} for _, row in df_user.iterrows()]\n",
    "    \n",
    "    return {\"Usuario con más horas jugadas para Género {}:\".format(genero): user_sum_playtime, \"Horas jugadas\": res}\n",
    "\n",
    "\n",
    "userforgenre('actIon')"
   ]
  },
  {
   "cell_type": "code",
   "execution_count": 33,
   "metadata": {},
   "outputs": [],
   "source": [
    "# Optimizamos el dataFrame para depuracion de datos de la funcion\n",
    "\n",
    "df_reviews[\"posted_date\"] = pd.to_datetime(df_reviews[\"posted_date\"])\n",
    "df_reviews[\"year_posted\"] = df_reviews[\"posted_date\"].dt.year\n",
    "df_UserRecommend = df_reviews[['item_id',\"recommend\",'year_posted']]\n",
    "df_aux= df_games[[\"item_id\",\"title\"]]\n",
    "df_UserRecommend = pd.merge(df_UserRecommend,df_aux, on=\"item_id\", how=\"inner\")\n",
    "df_UserRecommend = df_UserRecommend[['title','year_posted',\"recommend\"]]\n",
    "df_UserRecommend.to_csv(r'df_UserRecommend.csv',index=False)"
   ]
  },
  {
   "cell_type": "code",
   "execution_count": 34,
   "metadata": {},
   "outputs": [
    {
     "data": {
      "text/plain": [
       "[]"
      ]
     },
     "execution_count": 34,
     "metadata": {},
     "output_type": "execute_result"
    }
   ],
   "source": [
    "# Contar el número de recomendaciones para cada juego\n",
    "# Crear el formato de salida\n",
    "\n",
    "def UsersRecommend(año: int):\n",
    "    \n",
    "    df = df_UserRecommend[(df_UserRecommend['year_posted'] == año) & (df_UserRecommend['recommend'] == True)]\n",
    "    top_juegos = df['title'].value_counts().head(3)\n",
    "    final_res = [{\"Puesto {}: {}\".format(i+1, juego): recomendaciones} for i, (juego, recomendaciones) in enumerate(top_juegos.items())]\n",
    "\n",
    "    return final_res\n",
    "\n",
    "\n",
    "UsersRecommend(2012)"
   ]
  },
  {
   "cell_type": "code",
   "execution_count": 35,
   "metadata": {},
   "outputs": [],
   "source": [
    "# Optimizamos el dataFrame para depuracion de datos de la funcion\n",
    "\n",
    "df_reviews.head(5)\n",
    "df_NotRecommend = df_reviews[[\"item_id\",\"recommend\",\"year_posted\"]]\n",
    "df_info = df_games[[\"item_id\",\"developer\"]]\n",
    "df_NotRecommend = pd.merge(df_NotRecommend,df_info, on =\"item_id\",how= \"inner\")\n",
    "df_NotRecommend = df_NotRecommend[(df_NotRecommend['recommend'] == False)]\n",
    "df_NotRecommend = df_NotRecommend[[\"developer\", \"year_posted\"]]\n",
    "df_NotRecommend.to_csv(r'df_NotRecommend.csv',index=False)"
   ]
  },
  {
   "cell_type": "code",
   "execution_count": 36,
   "metadata": {},
   "outputs": [
    {
     "data": {
      "text/plain": [
       "[]"
      ]
     },
     "execution_count": 36,
     "metadata": {},
     "output_type": "execute_result"
    }
   ],
   "source": [
    "# Filtramos el DataFrame por el año especificado\n",
    "# Contamos la cantidad de publicaciones por desarrollador\n",
    "# Tomamos los primeros N resultados\n",
    "# Creamos la lista con el formato solicitado\n",
    "\n",
    "\n",
    "def UserNotRecommend(year):\n",
    "\n",
    "    df_filtered = df_NotRecommend[df_NotRecommend['year_posted'] == year]\n",
    "    developer_counts = df_filtered['developer'].value_counts()\n",
    "    top_developers = developer_counts.head(3)\n",
    "    result_list = [{\"Puesto {}: {}\".format(i + 1, developer): count} for i, (developer, count) in enumerate(top_developers.items())]\n",
    "\n",
    "    return result_list\n",
    "UserNotRecommend(2013)"
   ]
  },
  {
   "cell_type": "code",
   "execution_count": 37,
   "metadata": {},
   "outputs": [
    {
     "data": {
      "text/html": [
       "<div>\n",
       "<style scoped>\n",
       "    .dataframe tbody tr th:only-of-type {\n",
       "        vertical-align: middle;\n",
       "    }\n",
       "\n",
       "    .dataframe tbody tr th {\n",
       "        vertical-align: top;\n",
       "    }\n",
       "\n",
       "    .dataframe thead th {\n",
       "        text-align: right;\n",
       "    }\n",
       "</style>\n",
       "<table border=\"1\" class=\"dataframe\">\n",
       "  <thead>\n",
       "    <tr style=\"text-align: right;\">\n",
       "      <th></th>\n",
       "      <th>user_id</th>\n",
       "      <th>item_id</th>\n",
       "      <th>helpful</th>\n",
       "      <th>recommend</th>\n",
       "      <th>review</th>\n",
       "      <th>posted_date</th>\n",
       "      <th>sentimiento</th>\n",
       "      <th>sentiment_analysis</th>\n",
       "      <th>year_posted</th>\n",
       "    </tr>\n",
       "  </thead>\n",
       "  <tbody>\n",
       "    <tr>\n",
       "      <th>0</th>\n",
       "      <td>76561197970982479</td>\n",
       "      <td>1250</td>\n",
       "      <td>No ratings yet</td>\n",
       "      <td>True</td>\n",
       "      <td>Simple yet with great replayability. In my opi...</td>\n",
       "      <td>1970-01-01 00:00:00.000002011</td>\n",
       "      <td>0.8481</td>\n",
       "      <td>2</td>\n",
       "      <td>1970</td>\n",
       "    </tr>\n",
       "    <tr>\n",
       "      <th>1</th>\n",
       "      <td>76561197970982479</td>\n",
       "      <td>22200</td>\n",
       "      <td>No ratings yet</td>\n",
       "      <td>True</td>\n",
       "      <td>It's unique and worth a playthrough.</td>\n",
       "      <td>1970-01-01 00:00:00.000002011</td>\n",
       "      <td>0.2263</td>\n",
       "      <td>2</td>\n",
       "      <td>1970</td>\n",
       "    </tr>\n",
       "    <tr>\n",
       "      <th>2</th>\n",
       "      <td>76561197970982479</td>\n",
       "      <td>43110</td>\n",
       "      <td>No ratings yet</td>\n",
       "      <td>True</td>\n",
       "      <td>Great atmosphere. The gunplay can be a bit chu...</td>\n",
       "      <td>1970-01-01 00:00:00.000002011</td>\n",
       "      <td>0.9117</td>\n",
       "      <td>2</td>\n",
       "      <td>1970</td>\n",
       "    </tr>\n",
       "    <tr>\n",
       "      <th>3</th>\n",
       "      <td>js41637</td>\n",
       "      <td>251610</td>\n",
       "      <td>15 of 20 people (75%) found this review helpful</td>\n",
       "      <td>True</td>\n",
       "      <td>I know what you think when you see this title ...</td>\n",
       "      <td>1970-01-01 00:00:00.000002014</td>\n",
       "      <td>0.9566</td>\n",
       "      <td>2</td>\n",
       "      <td>1970</td>\n",
       "    </tr>\n",
       "    <tr>\n",
       "      <th>4</th>\n",
       "      <td>js41637</td>\n",
       "      <td>227300</td>\n",
       "      <td>0 of 1 people (0%) found this review helpful</td>\n",
       "      <td>True</td>\n",
       "      <td>For a simple (it's actually not all that simpl...</td>\n",
       "      <td>1970-01-01 00:00:00.000002013</td>\n",
       "      <td>0.9708</td>\n",
       "      <td>2</td>\n",
       "      <td>1970</td>\n",
       "    </tr>\n",
       "  </tbody>\n",
       "</table>\n",
       "</div>"
      ],
      "text/plain": [
       "             user_id  item_id  \\\n",
       "0  76561197970982479     1250   \n",
       "1  76561197970982479    22200   \n",
       "2  76561197970982479    43110   \n",
       "3            js41637   251610   \n",
       "4            js41637   227300   \n",
       "\n",
       "                                           helpful  recommend  \\\n",
       "0                                   No ratings yet       True   \n",
       "1                                   No ratings yet       True   \n",
       "2                                   No ratings yet       True   \n",
       "3  15 of 20 people (75%) found this review helpful       True   \n",
       "4     0 of 1 people (0%) found this review helpful       True   \n",
       "\n",
       "                                              review  \\\n",
       "0  Simple yet with great replayability. In my opi...   \n",
       "1               It's unique and worth a playthrough.   \n",
       "2  Great atmosphere. The gunplay can be a bit chu...   \n",
       "3  I know what you think when you see this title ...   \n",
       "4  For a simple (it's actually not all that simpl...   \n",
       "\n",
       "                    posted_date  sentimiento  sentiment_analysis  year_posted  \n",
       "0 1970-01-01 00:00:00.000002011       0.8481                   2         1970  \n",
       "1 1970-01-01 00:00:00.000002011       0.2263                   2         1970  \n",
       "2 1970-01-01 00:00:00.000002011       0.9117                   2         1970  \n",
       "3 1970-01-01 00:00:00.000002014       0.9566                   2         1970  \n",
       "4 1970-01-01 00:00:00.000002013       0.9708                   2         1970  "
      ]
     },
     "execution_count": 37,
     "metadata": {},
     "output_type": "execute_result"
    }
   ],
   "source": [
    "df_reviews.head()"
   ]
  },
  {
   "cell_type": "code",
   "execution_count": 38,
   "metadata": {},
   "outputs": [],
   "source": [
    "# Optimizamos el dataFrame para depuracion de datos de la funcion\n",
    "\n",
    "\n",
    "df_10 = df_reviews[[\"item_id\",\"sentiment_analysis\"]]\n",
    "df_11 = df_games[[\"year\",\"item_id\"]]\n",
    "df_Sentiment_Analysis = pd.merge(df_10,df_11, on = \"item_id\", how= \"inner\") \n",
    "df_Sentiment_Analysis = df_Sentiment_Analysis.groupby(['year', 'sentiment_analysis']).size().unstack(fill_value=0)\n",
    "df_Sentiment_Analysis = df_Sentiment_Analysis.reset_index(drop=False)\n",
    "nuevos_nombres = [\"Año\",'Negativo', 'Neutro',\"Positivo\"]\n",
    "df_Sentiment_Analysis.columns = nuevos_nombres\n",
    "df_Sentiment_Analysis[\"Año\"] = df_Sentiment_Analysis[\"Año\"].astype(str).str.lower()\n",
    "df_Sentiment_Analysis.to_csv(\"df_Sentiment_Analysis.csv\", index=False )"
   ]
  },
  {
   "cell_type": "code",
   "execution_count": 39,
   "metadata": {},
   "outputs": [
    {
     "data": {
      "text/html": [
       "<div>\n",
       "<style scoped>\n",
       "    .dataframe tbody tr th:only-of-type {\n",
       "        vertical-align: middle;\n",
       "    }\n",
       "\n",
       "    .dataframe tbody tr th {\n",
       "        vertical-align: top;\n",
       "    }\n",
       "\n",
       "    .dataframe thead th {\n",
       "        text-align: right;\n",
       "    }\n",
       "</style>\n",
       "<table border=\"1\" class=\"dataframe\">\n",
       "  <thead>\n",
       "    <tr style=\"text-align: right;\">\n",
       "      <th></th>\n",
       "      <th>Año</th>\n",
       "      <th>Negativo</th>\n",
       "      <th>Neutro</th>\n",
       "      <th>Positivo</th>\n",
       "    </tr>\n",
       "  </thead>\n",
       "  <tbody>\n",
       "    <tr>\n",
       "      <th>0</th>\n",
       "      <td>1989</td>\n",
       "      <td>0</td>\n",
       "      <td>0</td>\n",
       "      <td>1</td>\n",
       "    </tr>\n",
       "    <tr>\n",
       "      <th>1</th>\n",
       "      <td>1990</td>\n",
       "      <td>1</td>\n",
       "      <td>0</td>\n",
       "      <td>4</td>\n",
       "    </tr>\n",
       "    <tr>\n",
       "      <th>2</th>\n",
       "      <td>1991</td>\n",
       "      <td>0</td>\n",
       "      <td>0</td>\n",
       "      <td>1</td>\n",
       "    </tr>\n",
       "    <tr>\n",
       "      <th>3</th>\n",
       "      <td>1992</td>\n",
       "      <td>1</td>\n",
       "      <td>0</td>\n",
       "      <td>2</td>\n",
       "    </tr>\n",
       "    <tr>\n",
       "      <th>4</th>\n",
       "      <td>1993</td>\n",
       "      <td>1</td>\n",
       "      <td>1</td>\n",
       "      <td>2</td>\n",
       "    </tr>\n",
       "  </tbody>\n",
       "</table>\n",
       "</div>"
      ],
      "text/plain": [
       "    Año  Negativo  Neutro  Positivo\n",
       "0  1989         0       0         1\n",
       "1  1990         1       0         4\n",
       "2  1991         0       0         1\n",
       "3  1992         1       0         2\n",
       "4  1993         1       1         2"
      ]
     },
     "execution_count": 39,
     "metadata": {},
     "output_type": "execute_result"
    }
   ],
   "source": [
    "df_Sentiment_Analysis.head()"
   ]
  },
  {
   "cell_type": "code",
   "execution_count": 40,
   "metadata": {},
   "outputs": [],
   "source": [
    "# Filtra el DataFrame para obtener la fila correspondiente al desarrollador\n",
    "# Extrae los valores de las columnas Negativo, Neutro y Positivo\n",
    "# Crea un diccionario con la información en el formato solicitado\n",
    "\n",
    "def Sentiment_analysis(desarrollador):\n",
    "    \n",
    "    desarrollador =desarrollador.lower()\n",
    "    desarrollador_fila = df_Sentiment_Analysis[df_Sentiment_Analysis['Año'] == desarrollador]\n",
    "\n",
    "    \n",
    "    negativo = desarrollador_fila['Negativo'].values[0]\n",
    "    neutro = desarrollador_fila['Neutro'].values[0]\n",
    "    positivo = desarrollador_fila['Positivo'].values[0]\n",
    "\n",
    "    \n",
    "    resultado = {\n",
    "        desarrollador: {\n",
    "            'Negative': negativo,\n",
    "            'Neutral': neutro,\n",
    "            'Positive': positivo\n",
    "        }\n",
    "    }\n",
    "\n",
    "    return resultado\n"
   ]
  },
  {
   "cell_type": "code",
   "execution_count": 41,
   "metadata": {},
   "outputs": [
    {
     "data": {
      "text/plain": [
       "{'2013': {'Negative': 952, 'Neutral': 1502, 'Positive': 4172}}"
      ]
     },
     "execution_count": 41,
     "metadata": {},
     "output_type": "execute_result"
    }
   ],
   "source": [
    "Sentiment_analysis('2013')"
   ]
  }
 ],
 "metadata": {
  "kernelspec": {
   "display_name": "Python 3",
   "language": "python",
   "name": "python3"
  },
  "language_info": {
   "codemirror_mode": {
    "name": "ipython",
    "version": 3
   },
   "file_extension": ".py",
   "mimetype": "text/x-python",
   "name": "python",
   "nbconvert_exporter": "python",
   "pygments_lexer": "ipython3",
   "version": "3.11.8"
  }
 },
 "nbformat": 4,
 "nbformat_minor": 2
}
